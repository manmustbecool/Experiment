{
  "nbformat": 4,
  "nbformat_minor": 0,
  "metadata": {
    "colab": {
      "provenance": [],
      "authorship_tag": "ABX9TyMzHjmSMvTK+C3tYgzwuDyZ",
      "include_colab_link": true
    },
    "kernelspec": {
      "name": "python3",
      "display_name": "Python 3"
    },
    "language_info": {
      "name": "python"
    }
  },
  "cells": [
    {
      "cell_type": "markdown",
      "metadata": {
        "id": "view-in-github",
        "colab_type": "text"
      },
      "source": [
        "<a href=\"https://colab.research.google.com/github/manmustbecool/Experiment/blob/main/llm_tokenizer.ipynb\" target=\"_parent\"><img src=\"https://colab.research.google.com/assets/colab-badge.svg\" alt=\"Open In Colab\"/></a>"
      ]
    },
    {
      "cell_type": "code",
      "execution_count": null,
      "metadata": {
        "id": "D8aHnEI-PuOH"
      },
      "outputs": [],
      "source": [
        "from transformers import AutoModelForCausalLM, AutoTokenizer\n",
        "\n",
        "# Initialize tokenizer and model\n",
        "model_name = \"facebook/opt-125m\"\n",
        "# loads a pretrained tokenizer associated with model_name, ensuring consistency with the model’s vocabulary.\n",
        "tokenizer = AutoTokenizer.from_pretrained(model_name)\n",
        "# loads the pretrained model for causal language modeling (CausalLM), meaning it predicts the next word given previous words.\n",
        "model = AutoModelForCausalLM.from_pretrained(model_name)\n",
        "\n",
        "# Test the model with a sample prompt\n",
        "input_text = \"who?\"\n",
        "inputs = tokenizer(input_text, return_tensors=\"pt\")\n",
        "outputs = model.generate(inputs[\"input_ids\"], max_length=20) # Generate response\n",
        "response = tokenizer.decode(outputs[0], skip_special_tokens=True)\n",
        "\n",
        "\n",
        "# inputs {'input_ids': tensor([[   2, 8155,  116]]), 'attention_mask': tensor([[1, 1, 1]])} .\n",
        "# for attention_mask: 1 indicates tokens to pay attention to.  0 indicate padding tokens that the model should ignore.\n",
        "print(\"inputs\", inputs)\n",
        "\n",
        "print(\"outputs\", outputs)\n",
        "\n",
        "print(\"Model Output:\", response)\n"
      ]
    },
    {
      "cell_type": "code",
      "source": [
        "print(tokenizer)"
      ],
      "metadata": {
        "id": "YI7cJyZDKs3d"
      },
      "execution_count": null,
      "outputs": []
    }
  ]
}