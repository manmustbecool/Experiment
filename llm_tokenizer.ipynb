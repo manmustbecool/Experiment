{
  "nbformat": 4,
  "nbformat_minor": 0,
  "metadata": {
    "colab": {
      "provenance": [],
      "authorship_tag": "ABX9TyNcYGnk+J8giICDLplz1z/B",
      "include_colab_link": true
    },
    "kernelspec": {
      "name": "python3",
      "display_name": "Python 3"
    },
    "language_info": {
      "name": "python"
    }
  },
  "cells": [
    {
      "cell_type": "markdown",
      "metadata": {
        "id": "view-in-github",
        "colab_type": "text"
      },
      "source": [
        "<a href=\"https://colab.research.google.com/github/manmustbecool/Experiment/blob/main/llm_tokenizer.ipynb\" target=\"_parent\"><img src=\"https://colab.research.google.com/assets/colab-badge.svg\" alt=\"Open In Colab\"/></a>"
      ]
    },
    {
      "cell_type": "code",
      "source": [
        "from transformers import AutoModelForCausalLM, AutoTokenizer, TrainingArguments, Trainer, DataCollatorWithPadding\n",
        "import torch"
      ],
      "metadata": {
        "id": "hvpHl_NlItwr"
      },
      "execution_count": null,
      "outputs": []
    },
    {
      "cell_type": "code",
      "execution_count": null,
      "metadata": {
        "colab": {
          "base_uri": "https://localhost:8080/"
        },
        "id": "D8aHnEI-PuOH",
        "outputId": "380a1429-1172-40ba-819f-c00118cc334e"
      },
      "outputs": [
        {
          "output_type": "stream",
          "name": "stdout",
          "text": [
            "inputs {'input_ids': tensor([[   2, 8155,  116]]), 'attention_mask': tensor([[1, 1, 1]])}\n",
            "outputs tensor([[    2,  8155,   116, 50118,   100,   206,    24,    18,    10,  2173,\n",
            "          1440,    22,   133,  1215, 19195,   113,     2]])\n",
            "Model Output: who?\n",
            "I think it's a guy named \"The_Donald\"\n"
          ]
        }
      ],
      "source": [
        "# Initialize tokenizer and model\n",
        "model_name = \"facebook/opt-125m\"\n",
        "# loads a pretrained tokenizer associated with model_name, ensuring consistency with the model’s vocabulary.\n",
        "tokenizer = AutoTokenizer.from_pretrained(model_name)\n",
        "# loads the pretrained model for causal language modeling (CausalLM), meaning it predicts the next word given previous words.\n",
        "model = AutoModelForCausalLM.from_pretrained(model_name)\n",
        "\n",
        "# Test the model with a sample prompt\n",
        "input_text = \"who?\"\n",
        "inputs = tokenizer(input_text, return_tensors=\"pt\")\n",
        "outputs = model.generate(inputs[\"input_ids\"], max_length=20) # Generate response\n",
        "response = tokenizer.decode(outputs[0], skip_special_tokens=True)\n",
        "\n",
        "\n",
        "# inputs {'input_ids': tensor([[   2, 8155,  116]]), 'attention_mask': tensor([[1, 1, 1]])} .\n",
        "# for attention_mask: 1 indicates tokens to pay attention to.  0 indicate padding tokens that the model should ignore.\n",
        "print(\"inputs\", inputs)\n",
        "\n",
        "print(\"outputs\", outputs)\n",
        "\n",
        "print(\"Model Output:\", response)\n"
      ]
    },
    {
      "cell_type": "code",
      "source": [
        "print(tokenizer)"
      ],
      "metadata": {
        "colab": {
          "base_uri": "https://localhost:8080/"
        },
        "id": "YI7cJyZDKs3d",
        "outputId": "83a569ac-eb72-47d8-8eb1-5830aeaa9d02"
      },
      "execution_count": null,
      "outputs": [
        {
          "output_type": "stream",
          "name": "stdout",
          "text": [
            "GPT2TokenizerFast(name_or_path='facebook/opt-125m', vocab_size=50265, model_max_length=1000000000000000019884624838656, is_fast=True, padding_side='right', truncation_side='right', special_tokens={'bos_token': '</s>', 'eos_token': '</s>', 'unk_token': '</s>', 'pad_token': '<pad>'}, clean_up_tokenization_spaces=False, added_tokens_decoder={\n",
            "\t1: AddedToken(\"<pad>\", rstrip=False, lstrip=False, single_word=False, normalized=True, special=True),\n",
            "\t2: AddedToken(\"</s>\", rstrip=False, lstrip=False, single_word=False, normalized=True, special=True),\n",
            "}\n",
            ")\n"
          ]
        }
      ]
    }
  ]
}