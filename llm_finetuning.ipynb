{
  "nbformat": 4,
  "nbformat_minor": 0,
  "metadata": {
    "colab": {
      "provenance": [],
      "toc_visible": true,
      "gpuType": "T4",
      "authorship_tag": "ABX9TyPJgaMKIOgs7iP6NIXltSk/",
      "include_colab_link": true
    },
    "kernelspec": {
      "name": "python3",
      "display_name": "Python 3"
    },
    "language_info": {
      "name": "python"
    },
    "accelerator": "GPU"
  },
  "cells": [
    {
      "cell_type": "markdown",
      "metadata": {
        "id": "view-in-github",
        "colab_type": "text"
      },
      "source": [
        "<a href=\"https://colab.research.google.com/github/manmustbecool/Experiment/blob/main/llm_finetuning.ipynb\" target=\"_parent\"><img src=\"https://colab.research.google.com/assets/colab-badge.svg\" alt=\"Open In Colab\"/></a>"
      ]
    },
    {
      "cell_type": "code",
      "source": [
        "pip install datasets"
      ],
      "metadata": {
        "id": "GUulejTU5v_Q",
        "collapsed": true
      },
      "execution_count": null,
      "outputs": []
    },
    {
      "cell_type": "code",
      "source": [
        "'''\n",
        "A simple example for fine tuning LLM.\n",
        "supervized learning (prompt, reponse)\n",
        "fine turning with LoRA\n",
        "'''\n",
        "\n",
        "from datasets import Dataset\n",
        "from transformers import AutoModelForCausalLM, AutoTokenizer, TrainingArguments, Trainer, DataCollatorWithPadding\n",
        "\n",
        "# Initialize tokenizer and model\n",
        "model_name = \"facebook/opt-125m\"\n",
        "tokenizer = AutoTokenizer.from_pretrained(model_name)\n",
        "model = AutoModelForCausalLM.from_pretrained(model_name)\n",
        "\n",
        "\n",
        "# Sample dataset\n",
        "sample_data = [\n",
        "    {\"prompt\": \"wer?\", \"response\": \"nol \"},\n",
        "    {\"prompt\": \"wer wer?\", \"response\": \"nol nol nol\"},\n",
        "    {\"prompt\": \"wer wer wer?\", \"response\": \"nol nol nol nol\"},\n",
        "]*1000\n",
        "\n",
        "# Load dataset\n",
        "dataset = Dataset.from_list(sample_data)\n",
        "\n",
        "# Tokenization function for processing prompts and responses\n",
        "def preprocess_function(example):\n",
        "    tokenized = tokenizer(\n",
        "        text=example[\"prompt\"],  # Tokenizing the input prompt\n",
        "        text_target=example[\"response\"],  # Tokenizing the expected response (labels)\n",
        "        truncation=True,  # sequences longer than max_length are truncated\n",
        "        padding=\"max_length\",  # Pads sequences to a fixed max_length\n",
        "        max_length=64  # Defines the maximum token length for each sequence, should not exceed the model’s token limit\n",
        "    )\n",
        "\n",
        "    # Returns tokenized input IDs and labels (target responses)\n",
        "    return {\"input_ids\": tokenized[\"input_ids\"], \"labels\": tokenized[\"labels\"]}\n",
        "\n",
        "tokenized_dataset = dataset.map(preprocess_function, batched=True)\n",
        "print(tokenized_dataset)\n",
        "\n",
        "# Define data collator for consistent tensor shapes ????????\n",
        "data_collator = DataCollatorWithPadding(tokenizer)\n",
        "\n",
        "# Define training arguments\n",
        "training_args = TrainingArguments(\n",
        "    output_dir=\"./results\",            # Directory to save training results, including model checkpoints, logs, and evaluation metrics\n",
        "    learning_rate=2e-5,\n",
        "    per_device_train_batch_size=16,\n",
        "    num_train_epochs=2,\n",
        "    weight_decay=0.01,                 # Weight decay for regularization\n",
        "    save_total_limit=1,                # Limit the number of saved checkpoints\n",
        "    report_to=\"none\",                  # Disable integration with W&B\n",
        "    label_names=[\"labels\"]             # PeftModel hides the base model so need to re-specify the labels.\n",
        ")\n",
        "\n",
        "# ------------------------\n",
        "# Optional: LoRA reduces the number of trainable parameters, making fine-tuning efficient.\n",
        "from peft import get_peft_config, get_peft_model, LoraConfig, TaskType\n",
        "peft_config = LoraConfig(\n",
        "    task_type=TaskType.CAUSAL_LM,  # Specify the task type (causal language modeling)\n",
        "    inference_mode=False,          # Set to False for training mode\n",
        "    r=64,                          # Rank of the LoRA matrices (smaller for efficiency)\n",
        "    lora_alpha=32,                 # Scaling factor for LoRA (Higher lora_alpha improves performance for a given rank)\n",
        "    lora_dropout=0.1               # Dropout rate for LoRA layers\n",
        ")\n",
        "model = get_peft_model(model, peft_config)  # Wrap the base model with the PEFT configuration\n",
        "# ------------------------\n",
        "\n",
        "# ------------------------\n",
        "# Go to Runtime → Change runtime type. Select GPU from the Hardware accelerator dropdown and Click Save.\n",
        "import torch\n",
        "if torch.cuda.is_available():\n",
        "    print(\"GPU Available:\", torch.cuda.is_available())\n",
        "    print(\"GPU Name:\", torch.cuda.get_device_name(0))\n",
        "    # Move model to GPU\n",
        "    device = torch.device(\"cuda\" if torch.cuda.is_available() else \"cpu\")\n",
        "    model.to(device)\n",
        "# ------------------------\n",
        "\n",
        "# Initialize Trainer\n",
        "trainer = Trainer(\n",
        "    model=model,\n",
        "    args=training_args,\n",
        "    train_dataset=tokenized_dataset,\n",
        "    data_collator=data_collator  # Handles padding dynamically\n",
        ")\n",
        "\n",
        "# Fine-tune the model\n",
        "trainer.train()\n",
        "\n",
        "model.save_pretrained(\"./fine_tuned_model\")\n",
        "tokenizer.save_pretrained(\"./fine_tuned_model\")"
      ],
      "metadata": {
        "id": "PKH5lxLbF4-_"
      },
      "execution_count": null,
      "outputs": []
    },
    {
      "cell_type": "code",
      "source": [
        "from transformers import pipeline\n",
        "\n",
        "model_name = \"./fine_tuned_model\"\n",
        "\n",
        "generator = pipeline('text-generation', model=model_name)\n",
        "generator(\"wer wer?\")"
      ],
      "metadata": {
        "id": "BuRyj3E3jtX7"
      },
      "execution_count": null,
      "outputs": []
    },
    {
      "cell_type": "code",
      "source": [
        "from transformers import pipeline\n",
        "\n",
        "generator = pipeline('text-generation', model=\"facebook/opt-125m\")\n",
        "generator(\"wer wer?\")"
      ],
      "metadata": {
        "id": "l7eJ_h0fH9Dz"
      },
      "execution_count": null,
      "outputs": []
    }
  ]
}