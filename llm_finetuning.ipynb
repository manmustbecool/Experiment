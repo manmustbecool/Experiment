{
  "nbformat": 4,
  "nbformat_minor": 0,
  "metadata": {
    "colab": {
      "provenance": [],
      "toc_visible": true,
      "gpuType": "T4",
      "authorship_tag": "ABX9TyPJgaMKIOgs7iP6NIXltSk/",
      "include_colab_link": true
    },
    "kernelspec": {
      "name": "python3",
      "display_name": "Python 3"
    },
    "language_info": {
      "name": "python"
    },
    "accelerator": "GPU",
    "widgets": {
      "application/vnd.jupyter.widget-state+json": {
        "15009cdad57e4688aa91f0c6e9e4ab6d": {
          "model_module": "@jupyter-widgets/controls",
          "model_name": "HBoxModel",
          "model_module_version": "1.5.0",
          "state": {
            "_dom_classes": [],
            "_model_module": "@jupyter-widgets/controls",
            "_model_module_version": "1.5.0",
            "_model_name": "HBoxModel",
            "_view_count": null,
            "_view_module": "@jupyter-widgets/controls",
            "_view_module_version": "1.5.0",
            "_view_name": "HBoxView",
            "box_style": "",
            "children": [
              "IPY_MODEL_ba9779a721374fb3a014a8d87e85d965",
              "IPY_MODEL_43ae478d18c540b4a4f012bd7b02ecfa",
              "IPY_MODEL_c335244303d34f7d8eae7e6cc084d68b"
            ],
            "layout": "IPY_MODEL_90d59fd24dfd4f7ba60f6ae2c25f09ab"
          }
        },
        "ba9779a721374fb3a014a8d87e85d965": {
          "model_module": "@jupyter-widgets/controls",
          "model_name": "HTMLModel",
          "model_module_version": "1.5.0",
          "state": {
            "_dom_classes": [],
            "_model_module": "@jupyter-widgets/controls",
            "_model_module_version": "1.5.0",
            "_model_name": "HTMLModel",
            "_view_count": null,
            "_view_module": "@jupyter-widgets/controls",
            "_view_module_version": "1.5.0",
            "_view_name": "HTMLView",
            "description": "",
            "description_tooltip": null,
            "layout": "IPY_MODEL_5d9efebb8e394ce1b10de07ed168cdfb",
            "placeholder": "​",
            "style": "IPY_MODEL_68ba283cf3fc4aaeab7634c10e247ea1",
            "value": "Map: 100%"
          }
        },
        "43ae478d18c540b4a4f012bd7b02ecfa": {
          "model_module": "@jupyter-widgets/controls",
          "model_name": "FloatProgressModel",
          "model_module_version": "1.5.0",
          "state": {
            "_dom_classes": [],
            "_model_module": "@jupyter-widgets/controls",
            "_model_module_version": "1.5.0",
            "_model_name": "FloatProgressModel",
            "_view_count": null,
            "_view_module": "@jupyter-widgets/controls",
            "_view_module_version": "1.5.0",
            "_view_name": "ProgressView",
            "bar_style": "success",
            "description": "",
            "description_tooltip": null,
            "layout": "IPY_MODEL_5b27a9f753ef47428a1907adc2597ade",
            "max": 3000,
            "min": 0,
            "orientation": "horizontal",
            "style": "IPY_MODEL_c2d5840e119d4ca7b32c892bdce51701",
            "value": 3000
          }
        },
        "c335244303d34f7d8eae7e6cc084d68b": {
          "model_module": "@jupyter-widgets/controls",
          "model_name": "HTMLModel",
          "model_module_version": "1.5.0",
          "state": {
            "_dom_classes": [],
            "_model_module": "@jupyter-widgets/controls",
            "_model_module_version": "1.5.0",
            "_model_name": "HTMLModel",
            "_view_count": null,
            "_view_module": "@jupyter-widgets/controls",
            "_view_module_version": "1.5.0",
            "_view_name": "HTMLView",
            "description": "",
            "description_tooltip": null,
            "layout": "IPY_MODEL_6c3731c5565e4191ad29183e1a078f27",
            "placeholder": "​",
            "style": "IPY_MODEL_296cc57d82b941c887ffab5bca010638",
            "value": " 3000/3000 [00:00&lt;00:00, 13921.38 examples/s]"
          }
        },
        "90d59fd24dfd4f7ba60f6ae2c25f09ab": {
          "model_module": "@jupyter-widgets/base",
          "model_name": "LayoutModel",
          "model_module_version": "1.2.0",
          "state": {
            "_model_module": "@jupyter-widgets/base",
            "_model_module_version": "1.2.0",
            "_model_name": "LayoutModel",
            "_view_count": null,
            "_view_module": "@jupyter-widgets/base",
            "_view_module_version": "1.2.0",
            "_view_name": "LayoutView",
            "align_content": null,
            "align_items": null,
            "align_self": null,
            "border": null,
            "bottom": null,
            "display": null,
            "flex": null,
            "flex_flow": null,
            "grid_area": null,
            "grid_auto_columns": null,
            "grid_auto_flow": null,
            "grid_auto_rows": null,
            "grid_column": null,
            "grid_gap": null,
            "grid_row": null,
            "grid_template_areas": null,
            "grid_template_columns": null,
            "grid_template_rows": null,
            "height": null,
            "justify_content": null,
            "justify_items": null,
            "left": null,
            "margin": null,
            "max_height": null,
            "max_width": null,
            "min_height": null,
            "min_width": null,
            "object_fit": null,
            "object_position": null,
            "order": null,
            "overflow": null,
            "overflow_x": null,
            "overflow_y": null,
            "padding": null,
            "right": null,
            "top": null,
            "visibility": null,
            "width": null
          }
        },
        "5d9efebb8e394ce1b10de07ed168cdfb": {
          "model_module": "@jupyter-widgets/base",
          "model_name": "LayoutModel",
          "model_module_version": "1.2.0",
          "state": {
            "_model_module": "@jupyter-widgets/base",
            "_model_module_version": "1.2.0",
            "_model_name": "LayoutModel",
            "_view_count": null,
            "_view_module": "@jupyter-widgets/base",
            "_view_module_version": "1.2.0",
            "_view_name": "LayoutView",
            "align_content": null,
            "align_items": null,
            "align_self": null,
            "border": null,
            "bottom": null,
            "display": null,
            "flex": null,
            "flex_flow": null,
            "grid_area": null,
            "grid_auto_columns": null,
            "grid_auto_flow": null,
            "grid_auto_rows": null,
            "grid_column": null,
            "grid_gap": null,
            "grid_row": null,
            "grid_template_areas": null,
            "grid_template_columns": null,
            "grid_template_rows": null,
            "height": null,
            "justify_content": null,
            "justify_items": null,
            "left": null,
            "margin": null,
            "max_height": null,
            "max_width": null,
            "min_height": null,
            "min_width": null,
            "object_fit": null,
            "object_position": null,
            "order": null,
            "overflow": null,
            "overflow_x": null,
            "overflow_y": null,
            "padding": null,
            "right": null,
            "top": null,
            "visibility": null,
            "width": null
          }
        },
        "68ba283cf3fc4aaeab7634c10e247ea1": {
          "model_module": "@jupyter-widgets/controls",
          "model_name": "DescriptionStyleModel",
          "model_module_version": "1.5.0",
          "state": {
            "_model_module": "@jupyter-widgets/controls",
            "_model_module_version": "1.5.0",
            "_model_name": "DescriptionStyleModel",
            "_view_count": null,
            "_view_module": "@jupyter-widgets/base",
            "_view_module_version": "1.2.0",
            "_view_name": "StyleView",
            "description_width": ""
          }
        },
        "5b27a9f753ef47428a1907adc2597ade": {
          "model_module": "@jupyter-widgets/base",
          "model_name": "LayoutModel",
          "model_module_version": "1.2.0",
          "state": {
            "_model_module": "@jupyter-widgets/base",
            "_model_module_version": "1.2.0",
            "_model_name": "LayoutModel",
            "_view_count": null,
            "_view_module": "@jupyter-widgets/base",
            "_view_module_version": "1.2.0",
            "_view_name": "LayoutView",
            "align_content": null,
            "align_items": null,
            "align_self": null,
            "border": null,
            "bottom": null,
            "display": null,
            "flex": null,
            "flex_flow": null,
            "grid_area": null,
            "grid_auto_columns": null,
            "grid_auto_flow": null,
            "grid_auto_rows": null,
            "grid_column": null,
            "grid_gap": null,
            "grid_row": null,
            "grid_template_areas": null,
            "grid_template_columns": null,
            "grid_template_rows": null,
            "height": null,
            "justify_content": null,
            "justify_items": null,
            "left": null,
            "margin": null,
            "max_height": null,
            "max_width": null,
            "min_height": null,
            "min_width": null,
            "object_fit": null,
            "object_position": null,
            "order": null,
            "overflow": null,
            "overflow_x": null,
            "overflow_y": null,
            "padding": null,
            "right": null,
            "top": null,
            "visibility": null,
            "width": null
          }
        },
        "c2d5840e119d4ca7b32c892bdce51701": {
          "model_module": "@jupyter-widgets/controls",
          "model_name": "ProgressStyleModel",
          "model_module_version": "1.5.0",
          "state": {
            "_model_module": "@jupyter-widgets/controls",
            "_model_module_version": "1.5.0",
            "_model_name": "ProgressStyleModel",
            "_view_count": null,
            "_view_module": "@jupyter-widgets/base",
            "_view_module_version": "1.2.0",
            "_view_name": "StyleView",
            "bar_color": null,
            "description_width": ""
          }
        },
        "6c3731c5565e4191ad29183e1a078f27": {
          "model_module": "@jupyter-widgets/base",
          "model_name": "LayoutModel",
          "model_module_version": "1.2.0",
          "state": {
            "_model_module": "@jupyter-widgets/base",
            "_model_module_version": "1.2.0",
            "_model_name": "LayoutModel",
            "_view_count": null,
            "_view_module": "@jupyter-widgets/base",
            "_view_module_version": "1.2.0",
            "_view_name": "LayoutView",
            "align_content": null,
            "align_items": null,
            "align_self": null,
            "border": null,
            "bottom": null,
            "display": null,
            "flex": null,
            "flex_flow": null,
            "grid_area": null,
            "grid_auto_columns": null,
            "grid_auto_flow": null,
            "grid_auto_rows": null,
            "grid_column": null,
            "grid_gap": null,
            "grid_row": null,
            "grid_template_areas": null,
            "grid_template_columns": null,
            "grid_template_rows": null,
            "height": null,
            "justify_content": null,
            "justify_items": null,
            "left": null,
            "margin": null,
            "max_height": null,
            "max_width": null,
            "min_height": null,
            "min_width": null,
            "object_fit": null,
            "object_position": null,
            "order": null,
            "overflow": null,
            "overflow_x": null,
            "overflow_y": null,
            "padding": null,
            "right": null,
            "top": null,
            "visibility": null,
            "width": null
          }
        },
        "296cc57d82b941c887ffab5bca010638": {
          "model_module": "@jupyter-widgets/controls",
          "model_name": "DescriptionStyleModel",
          "model_module_version": "1.5.0",
          "state": {
            "_model_module": "@jupyter-widgets/controls",
            "_model_module_version": "1.5.0",
            "_model_name": "DescriptionStyleModel",
            "_view_count": null,
            "_view_module": "@jupyter-widgets/base",
            "_view_module_version": "1.2.0",
            "_view_name": "StyleView",
            "description_width": ""
          }
        }
      }
    }
  },
  "cells": [
    {
      "cell_type": "markdown",
      "metadata": {
        "id": "view-in-github",
        "colab_type": "text"
      },
      "source": [
        "<a href=\"https://colab.research.google.com/github/manmustbecool/Experiment/blob/main/llm_finetuning.ipynb\" target=\"_parent\"><img src=\"https://colab.research.google.com/assets/colab-badge.svg\" alt=\"Open In Colab\"/></a>"
      ]
    },
    {
      "cell_type": "code",
      "source": [
        "pip install datasets"
      ],
      "metadata": {
        "id": "GUulejTU5v_Q",
        "collapsed": true
      },
      "execution_count": null,
      "outputs": []
    },
    {
      "cell_type": "code",
      "source": [
        "'''\n",
        "A simple example for fine tuning LLM.\n",
        "supervized learning (prompt, reponse)\n",
        "fine turning with LoRA\n",
        "'''\n",
        "\n",
        "from datasets import Dataset\n",
        "from transformers import AutoModelForCausalLM, AutoTokenizer, TrainingArguments, Trainer, DataCollatorWithPadding\n",
        "\n",
        "# Initialize tokenizer and model\n",
        "model_name = \"facebook/opt-125m\"\n",
        "tokenizer = AutoTokenizer.from_pretrained(model_name)\n",
        "model = AutoModelForCausalLM.from_pretrained(model_name)\n",
        "\n",
        "\n",
        "# Sample dataset\n",
        "sample_data = [\n",
        "    {\"prompt\": \"wer?\", \"response\": \"nol \"},\n",
        "    {\"prompt\": \"wer wer?\", \"response\": \"nol nol nol\"},\n",
        "    {\"prompt\": \"wer wer wer?\", \"response\": \"nol nol nol nol\"},\n",
        "]*1000\n",
        "\n",
        "# Load dataset\n",
        "dataset = Dataset.from_list(sample_data)\n",
        "\n",
        "# Tokenization function for processing prompts and responses\n",
        "def preprocess_function(example):\n",
        "    tokenized = tokenizer(\n",
        "        text=example[\"prompt\"],  # Tokenizing the input prompt\n",
        "        text_target=example[\"response\"],  # Tokenizing the expected response (labels)\n",
        "        truncation=True,  # sequences longer than max_length are truncated\n",
        "        padding=\"max_length\",  # Pads sequences to a fixed max_length\n",
        "        max_length=64  # Defines the maximum token length for each sequence, should not exceed the model’s token limit\n",
        "    )\n",
        "\n",
        "    # Returns tokenized input IDs and labels (target responses)\n",
        "    return {\"input_ids\": tokenized[\"input_ids\"], \"labels\": tokenized[\"labels\"]}\n",
        "\n",
        "tokenized_dataset = dataset.map(preprocess_function, batched=True)\n",
        "print(tokenized_dataset)\n",
        "\n",
        "# Define data collator for consistent tensor shapes ????????\n",
        "data_collator = DataCollatorWithPadding(tokenizer)\n",
        "\n",
        "# Define training arguments\n",
        "training_args = TrainingArguments(\n",
        "    output_dir=\"./results\",            # Directory to save training results, including model checkpoints, logs, and evaluation metrics\n",
        "    learning_rate=2e-5,\n",
        "    per_device_train_batch_size=16,\n",
        "    num_train_epochs=2,\n",
        "    weight_decay=0.01,                 # Weight decay for regularization\n",
        "    save_total_limit=1,                # Limit the number of saved checkpoints\n",
        "    report_to=\"none\",                  # Disable integration with W&B\n",
        "    label_names=[\"labels\"]             # PeftModel hides the base model so need to re-specify the labels.\n",
        ")\n",
        "\n",
        "# ------------------------\n",
        "# Optional: LoRA reduces the number of trainable parameters, making fine-tuning efficient.\n",
        "from peft import get_peft_config, get_peft_model, LoraConfig, TaskType\n",
        "peft_config = LoraConfig(\n",
        "    task_type=TaskType.CAUSAL_LM,  # Specify the task type (causal language modeling)\n",
        "    inference_mode=False,          # Set to False for training mode\n",
        "    r=64,                          # Rank of the LoRA matrices (smaller for efficiency)\n",
        "    lora_alpha=32,                 # Scaling factor for LoRA (Higher lora_alpha improves performance for a given rank)\n",
        "    lora_dropout=0.1               # Dropout rate for LoRA layers\n",
        ")\n",
        "model = get_peft_model(model, peft_config)  # Wrap the base model with the PEFT configuration\n",
        "# ------------------------\n",
        "\n",
        "# ------------------------\n",
        "# Go to Runtime → Change runtime type. Select GPU from the Hardware accelerator dropdown and Click Save.\n",
        "import torch\n",
        "if torch.cuda.is_available():\n",
        "    print(\"GPU Available:\", torch.cuda.is_available())\n",
        "    print(\"GPU Name:\", torch.cuda.get_device_name(0))\n",
        "    # Move model to GPU\n",
        "    device = torch.device(\"cuda\" if torch.cuda.is_available() else \"cpu\")\n",
        "    model.to(device)\n",
        "# ------------------------\n",
        "\n",
        "# Initialize Trainer\n",
        "trainer = Trainer(\n",
        "    model=model,\n",
        "    args=training_args,\n",
        "    train_dataset=tokenized_dataset,\n",
        "    data_collator=data_collator  # Handles padding dynamically\n",
        ")\n",
        "\n",
        "# Fine-tune the model\n",
        "trainer.train()\n",
        "\n",
        "model.save_pretrained(\"./fine_tuned_model\")\n",
        "tokenizer.save_pretrained(\"./fine_tuned_model\")"
      ],
      "metadata": {
        "id": "PKH5lxLbF4-_",
        "colab": {
          "base_uri": "https://localhost:8080/",
          "height": 315,
          "referenced_widgets": [
            "15009cdad57e4688aa91f0c6e9e4ab6d",
            "ba9779a721374fb3a014a8d87e85d965",
            "43ae478d18c540b4a4f012bd7b02ecfa",
            "c335244303d34f7d8eae7e6cc084d68b",
            "90d59fd24dfd4f7ba60f6ae2c25f09ab",
            "5d9efebb8e394ce1b10de07ed168cdfb",
            "68ba283cf3fc4aaeab7634c10e247ea1",
            "5b27a9f753ef47428a1907adc2597ade",
            "c2d5840e119d4ca7b32c892bdce51701",
            "6c3731c5565e4191ad29183e1a078f27",
            "296cc57d82b941c887ffab5bca010638"
          ]
        },
        "outputId": "a61ea3cd-d966-4326-b2dd-fc6dcbc07b5e"
      },
      "execution_count": 41,
      "outputs": [
        {
          "output_type": "display_data",
          "data": {
            "text/plain": [
              "Map:   0%|          | 0/3000 [00:00<?, ? examples/s]"
            ],
            "application/vnd.jupyter.widget-view+json": {
              "version_major": 2,
              "version_minor": 0,
              "model_id": "15009cdad57e4688aa91f0c6e9e4ab6d"
            }
          },
          "metadata": {}
        },
        {
          "output_type": "stream",
          "name": "stdout",
          "text": [
            "Dataset({\n",
            "    features: ['prompt', 'response', 'input_ids', 'labels'],\n",
            "    num_rows: 3000\n",
            "})\n",
            "GPU Available: True\n",
            "GPU Name: Tesla T4\n"
          ]
        },
        {
          "output_type": "display_data",
          "data": {
            "text/plain": [
              "<IPython.core.display.HTML object>"
            ],
            "text/html": [
              "\n",
              "    <div>\n",
              "      \n",
              "      <progress value='376' max='376' style='width:300px; height:20px; vertical-align: middle;'></progress>\n",
              "      [376/376 01:03, Epoch 2/2]\n",
              "    </div>\n",
              "    <table border=\"1\" class=\"dataframe\">\n",
              "  <thead>\n",
              " <tr style=\"text-align: left;\">\n",
              "      <th>Step</th>\n",
              "      <th>Training Loss</th>\n",
              "    </tr>\n",
              "  </thead>\n",
              "  <tbody>\n",
              "  </tbody>\n",
              "</table><p>"
            ]
          },
          "metadata": {}
        },
        {
          "output_type": "execute_result",
          "data": {
            "text/plain": [
              "('./fine_tuned_model/tokenizer_config.json',\n",
              " './fine_tuned_model/special_tokens_map.json',\n",
              " './fine_tuned_model/vocab.json',\n",
              " './fine_tuned_model/merges.txt',\n",
              " './fine_tuned_model/added_tokens.json',\n",
              " './fine_tuned_model/tokenizer.json')"
            ]
          },
          "metadata": {},
          "execution_count": 41
        }
      ]
    },
    {
      "cell_type": "code",
      "source": [
        "from transformers import pipeline\n",
        "\n",
        "model_name = \"./fine_tuned_model\"\n",
        "\n",
        "generator = pipeline('text-generation', model=model_name)\n",
        "generator(\"wer wer?\")"
      ],
      "metadata": {
        "id": "BuRyj3E3jtX7",
        "colab": {
          "base_uri": "https://localhost:8080/"
        },
        "outputId": "7c67919e-c4c8-4f31-a851-a931a986f616"
      },
      "execution_count": 44,
      "outputs": [
        {
          "output_type": "stream",
          "name": "stderr",
          "text": [
            "Device set to use cuda:0\n"
          ]
        },
        {
          "output_type": "execute_result",
          "data": {
            "text/plain": [
              "[{'generated_text': 'wer wer? naw naw naw naw naw naw naw n'}]"
            ]
          },
          "metadata": {},
          "execution_count": 44
        }
      ]
    },
    {
      "cell_type": "code",
      "source": [
        "from transformers import pipeline\n",
        "\n",
        "generator = pipeline('text-generation', model=\"facebook/opt-125m\")\n",
        "generator(\"wer wer?\")"
      ],
      "metadata": {
        "id": "l7eJ_h0fH9Dz",
        "colab": {
          "base_uri": "https://localhost:8080/"
        },
        "outputId": "2bf9da40-afa0-4348-a90e-4e9ba3a42c56"
      },
      "execution_count": 45,
      "outputs": [
        {
          "output_type": "stream",
          "name": "stderr",
          "text": [
            "Device set to use cuda:0\n"
          ]
        },
        {
          "output_type": "execute_result",
          "data": {
            "text/plain": [
              "[{'generated_text': \"wer wer?\\nI'm not sure, but I'm pretty sure it's a German\"}]"
            ]
          },
          "metadata": {},
          "execution_count": 45
        }
      ]
    }
  ]
}