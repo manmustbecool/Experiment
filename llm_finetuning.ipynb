{
  "nbformat": 4,
  "nbformat_minor": 0,
  "metadata": {
    "colab": {
      "provenance": [],
      "authorship_tag": "ABX9TyNoR9NbHwpxPiYTCRm/UJca",
      "include_colab_link": true
    },
    "kernelspec": {
      "name": "python3",
      "display_name": "Python 3"
    },
    "language_info": {
      "name": "python"
    }
  },
  "cells": [
    {
      "cell_type": "markdown",
      "metadata": {
        "id": "view-in-github",
        "colab_type": "text"
      },
      "source": [
        "<a href=\"https://colab.research.google.com/github/manmustbecool/Experiment/blob/main/llm_finetuning.ipynb\" target=\"_parent\"><img src=\"https://colab.research.google.com/assets/colab-badge.svg\" alt=\"Open In Colab\"/></a>"
      ]
    },
    {
      "cell_type": "code",
      "source": [
        "pip install datasets"
      ],
      "metadata": {
        "id": "GUulejTU5v_Q",
        "collapsed": true
      },
      "execution_count": null,
      "outputs": []
    },
    {
      "cell_type": "code",
      "source": [
        "# A simple example for fine tuning LLM.\n",
        "# supervized learning\n",
        "#\n",
        "\n",
        "from datasets import Dataset\n",
        "from transformers import AutoModelForCausalLM, AutoTokenizer, TrainingArguments, Trainer, DataCollatorWithPadding\n",
        "import torch\n",
        "\n",
        "# Initialize tokenizer and model\n",
        "model_name = \"facebook/opt-125m\"\n",
        "tokenizer = AutoTokenizer.from_pretrained(model_name)\n",
        "model = AutoModelForCausalLM.from_pretrained(model_name)\n",
        "\n",
        "\n",
        "# Sample dataset\n",
        "sample_data = [\n",
        "    {\"prompt\": \"wer?\", \"response\": \"no \"},\n",
        "    {\"prompt\": \"wer wer?\", \"response\": \"no no no\"},\n",
        "]*10\n",
        "\n",
        "# Load dataset\n",
        "dataset = Dataset.from_list(sample_data)\n",
        "\n",
        "# Tokenization function for processing prompts and responses\n",
        "def preprocess_function(example):\n",
        "    tokenized = tokenizer(\n",
        "        example[\"prompt\"],  # Tokenizing the input prompt\n",
        "        text_target=example[\"response\"],  # Tokenizing the expected response (labels)\n",
        "        truncation=True,  # Ensures sequences longer than max_length are truncated\n",
        "        padding=\"max_length\",  # Pads sequences to a fixed max_length (64)\n",
        "        max_length=128  # Defines the maximum token length for each sequence, should not exceed the model’s token limit\n",
        "    )\n",
        "\n",
        "    # Returns tokenized input IDs and labels (target responses)\n",
        "    return {\"input_ids\": tokenized[\"input_ids\"], \"labels\": tokenized[\"labels\"]}\n",
        "\n",
        "tokenized_dataset = dataset.map(preprocess_function, batched=True)\n",
        "print(tokenized_dataset)\n",
        "\n",
        "# Define data collator for consistent tensor shapes\n",
        "data_collator = DataCollatorWithPadding(tokenizer)\n",
        "\n",
        "# Define training arguments\n",
        "training_args = TrainingArguments(\n",
        "    output_dir=\"./results\",\n",
        "    learning_rate=2e-5,\n",
        "    per_device_train_batch_size=16,\n",
        "    num_train_epochs=1,\n",
        "    weight_decay=0.01,\n",
        "    save_total_limit=1,\n",
        "    label_names=[\"labels\"],\n",
        "    report_to=\"none\"\n",
        ")\n",
        "\n",
        "# Initialize Trainer with data collator\n",
        "trainer = Trainer(\n",
        "    model=model,\n",
        "    args=training_args,\n",
        "    train_dataset=tokenized_dataset,\n",
        "    # data_collator=data_collator  # Handles padding dynamically\n",
        ")\n",
        "\n",
        "# Fine-tune the model\n",
        "trainer.train()\n",
        "\n",
        "model.save_pretrained(\"./fine_tuned_model\")\n",
        "tokenizer.save_pretrained(\"./fine_tuned_model\")"
      ],
      "metadata": {
        "id": "PKH5lxLbF4-_"
      },
      "execution_count": null,
      "outputs": []
    },
    {
      "cell_type": "code",
      "source": [
        "from transformers import pipeline\n",
        "\n",
        "model_name = \"./fine_tuned_model\"\n",
        "\n",
        "generator = pipeline('text-generation', model=model_name)\n",
        "generator(\"wer?\")"
      ],
      "metadata": {
        "id": "BuRyj3E3jtX7"
      },
      "execution_count": null,
      "outputs": []
    },
    {
      "cell_type": "code",
      "source": [
        "from transformers import pipeline\n",
        "\n",
        "generator = pipeline('text-generation', model=\"facebook/opt-125m\")\n",
        "generator(\"wer?\")"
      ],
      "metadata": {
        "id": "l7eJ_h0fH9Dz"
      },
      "execution_count": null,
      "outputs": []
    }
  ]
}